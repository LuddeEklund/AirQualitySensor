{
 "cells": [
  {
   "cell_type": "code",
   "execution_count": null,
   "metadata": {},
   "outputs": [],
   "source": [
    "import numpy as np\n",
    "import csv\n",
    "import pandas as pd"
   ]
  },
  {
   "cell_type": "code",
   "execution_count": null,
   "metadata": {},
   "outputs": [],
   "source": [
    "df = pd.read_csv(\"aqburk-20190301T000000Z.csv\")\n",
    "df.head()\n"
   ]
  },
  {
   "cell_type": "code",
   "execution_count": null,
   "metadata": {},
   "outputs": [],
   "source": [
    "df = df.sort_values(by = ['dev-id', 'readable_time'] )#sorting by id AND time\n",
    "print(df.shape)\n",
    "df.head()"
   ]
  },
  {
   "cell_type": "code",
   "execution_count": null,
   "metadata": {},
   "outputs": [],
   "source": [
    "print(list(df))\n",
    "#We are only interested in pm10avg. pm10avg stands for average particulate matter, in µg/ m3 air. "
   ]
  },
  {
   "cell_type": "code",
   "execution_count": null,
   "metadata": {},
   "outputs": [],
   "source": [
    "def filter_columns(df, keep):\n",
    "\t\"\"\"Filter Pandas table df keeping only columns in keep\"\"\"\n",
    "\tallColumns = list(df)\n",
    "\tfor col in keep:\n",
    "\t\tallColumns.remove(col)\n",
    "\n",
    "\treturn df.drop(columns=allColumns)\n",
    "\n",
    "keep_columns = ['time', 'readable_time', 'humi', 'pm10avg', 'pres', 'rssi', 'temp', 'dev-id']\n",
    "dfpm10 = filter_columns(df, keep_columns)\n",
    "dfpm10.head()\n",
    "\n"
   ]
  },
  {
   "cell_type": "code",
   "execution_count": null,
   "metadata": {},
   "outputs": [],
   "source": [
    "dfpm10['dev-id'].value_counts()\n"
   ]
  },
  {
   "cell_type": "code",
   "execution_count": null,
   "metadata": {},
   "outputs": [],
   "source": [
    "#We are only interested in the sensor with dev-id: 373773207E330103\n",
    "#get index of the first 373773207E330103\n",
    "for a in range (0, len(dfpm10)):\n",
    "    if (dfpm10['dev-id'].iloc[a] == \"373773207E330103\"): \n",
    "        print(a)\n",
    "        break\n",
    "       "
   ]
  },
  {
   "cell_type": "code",
   "execution_count": null,
   "metadata": {},
   "outputs": [],
   "source": [
    "#get index of the first 373773207E330104 (after 373773207E330103)\n",
    "for b in range (a, len(dfpm10)):\n",
    "    if (dfpm10['dev-id'].iloc[b] == \"373773207E330104\"): \n",
    "        print(b)\n",
    "        break\n"
   ]
  },
  {
   "cell_type": "code",
   "execution_count": null,
   "metadata": {},
   "outputs": [],
   "source": [
    "dfSensor = dfpm10[a:b]\n",
    "dfSensor.head()\n"
   ]
  },
  {
   "cell_type": "code",
   "execution_count": null,
   "metadata": {},
   "outputs": [],
   "source": [
    "dfSensor.tail()"
   ]
  },
  {
   "cell_type": "code",
   "execution_count": null,
   "metadata": {},
   "outputs": [],
   "source": [
    "#making sure or sensor is the right one \n",
    "dfSensor['dev-id'].value_counts()\n"
   ]
  },
  {
   "cell_type": "code",
   "execution_count": null,
   "metadata": {},
   "outputs": [],
   "source": [
    "dfSensor.readable_time.describe()"
   ]
  },
  {
   "cell_type": "code",
   "execution_count": null,
   "metadata": {},
   "outputs": [],
   "source": [
    "#We check the type of readable_time\n",
    "type(dfSensor.readable_time)"
   ]
  },
  {
   "cell_type": "code",
   "execution_count": null,
   "metadata": {},
   "outputs": [],
   "source": [
    "#slow, transforming time to correct readable format\n",
    "'''\n",
    "Our time is given in format: 2019-02-28T11:45:33.239000Z.\n",
    "In datetime.strptime this translate to : %Y-%m-%dT%H:%M:%S.%fZ\".\n",
    "\n",
    "Not all time is given in the correct format. We want to use time in the format: 2019-02-28 11:45:33, \n",
    "or %Y-%m-%dT%H:%M:%SZ in datetime.strptime. We are only interested in elements 0..19 of our readable_time array.\n",
    "\n",
    "\n",
    "'''\n",
    "import datetime\n",
    "import time\n",
    "\n",
    "for n in range (0, len(dfSensor)):\n",
    "    date_time_str = dfSensor.readable_time.iloc[n]\n",
    "    temp = date_time_str[:19]\n",
    "    date_time_obj = datetime.datetime.strptime(temp, '%Y-%m-%dT%H:%M:%S') \n",
    "    dfSensor.readable_time.iloc[n] = date_time_obj\n",
    "    \n",
    "dfSensor.tail()"
   ]
  },
  {
   "cell_type": "code",
   "execution_count": null,
   "metadata": {},
   "outputs": [],
   "source": [
    "#dfSensor2 = dfSensor #Safety copy of dfSensor"
   ]
  },
  {
   "cell_type": "code",
   "execution_count": null,
   "metadata": {},
   "outputs": [],
   "source": [
    "keep_columns = ['readable_time', 'pm10avg']\n",
    "dfSensor = filter_columns(dfSensor, keep_columns)\n",
    "print(dfSensor.shape)\n",
    "dfSensor.tail()\n"
   ]
  },
  {
   "cell_type": "code",
   "execution_count": null,
   "metadata": {},
   "outputs": [],
   "source": [
    "dfSensor = dfSensor.set_index(dfSensor.readable_time)\n",
    "dfSensor.tail()\n"
   ]
  },
  {
   "cell_type": "code",
   "execution_count": null,
   "metadata": {},
   "outputs": [],
   "source": [
    "import matplotlib\n",
    "import matplotlib.pyplot as plt\n",
    "\n",
    "def plot_figure(readable_time, pm10avg):\n",
    "    plt.figure(figsize=(40,20))\n",
    "    plt.plot(readable_time, pm10avg)\n",
    "    plt.xlabel(\"Date\")\n",
    "    plt.ylabel(\"PM10, µg/m3 \")\n",
    "\n",
    "plot_figure(dfSensor.readable_time, dfSensor.pm10avg)\n",
    "plt.title(\"PM10 average as a function of time\")\n",
    "#plt.savefig('RawGraph.png', dpi=80)\n",
    "plt.show()\n"
   ]
  },
  {
   "cell_type": "code",
   "execution_count": null,
   "metadata": {},
   "outputs": [],
   "source": [
    "#resample, calculate hourly average for pm10\n",
    "hourly = dfSensor.resample('H').mean()\n",
    "hourly.tail()"
   ]
  },
  {
   "cell_type": "code",
   "execution_count": null,
   "metadata": {},
   "outputs": [],
   "source": [
    "plot_figure(hourly.index, hourly.pm10avg)\n",
    "plt.title(\"pm10avg, calculated as 1 h mean\")\n",
    "#plt.savefig('RawGraph1HourAverage.png', dpi=80)\n",
    "plt.show()"
   ]
  },
  {
   "cell_type": "markdown",
   "metadata": {},
   "source": [
    "# Removing Spikes"
   ]
  },
  {
   "cell_type": "markdown",
   "metadata": {},
   "source": [
    "Spikes will affect and strongly influence the mean hourly value, whereas (single) spikes are hardly recognised for hourly values.\n",
    "\n",
    "How can we remove single, short time peaks (spikes) from the data? How do we define single, short time peaks?\n",
    "\n",
    "My answer is to replace or remove the spikes and replace them with an averaged values. Spikes are values above a threshold value, and they are replaced with the mean of the previous and the next value.\n",
    "\n",
    "We will iterate over our data three times. By this method, spikes will be removed or at least weakend, whereas peaks will only weaken. \n"
   ]
  },
  {
   "cell_type": "code",
   "execution_count": null,
   "metadata": {},
   "outputs": [],
   "source": [
    "#evaluate with a smaller area, to investigate our spike reducing method\n",
    "df1 = dfSensor[500:1000]\n",
    "df1.tail()"
   ]
  },
  {
   "cell_type": "code",
   "execution_count": null,
   "metadata": {},
   "outputs": [],
   "source": [
    "plot_figure(df1.readable_time, df1.pm10avg)\n",
    "plt.title(\"pm10avg as function of time, \")\n",
    "#plt.savefig('RawGraph1Reduced.png', dpi=80)\n",
    "plt.show()\n"
   ]
  },
  {
   "cell_type": "code",
   "execution_count": null,
   "metadata": {},
   "outputs": [],
   "source": [
    "df1 = df1.reset_index(drop=True)\n",
    "df1.tail()"
   ]
  },
  {
   "cell_type": "code",
   "execution_count": null,
   "metadata": {},
   "outputs": [],
   "source": [
    "threshold = 20\n",
    "count = 0\n",
    "#I will iterate 3 times over my data to remove/ or smooth down spikes\n",
    "\n",
    "for m in range (0,3):\n",
    "    for n in range (0,(len(df1)-1)):\n",
    "        if (df1.pm10avg.iloc[n] > threshold):\n",
    "            prev = df1.pm10avg.iloc[n-1]\n",
    "            nxt = df1.pm10avg.iloc[n+1]\n",
    "            avg = ((prev+nxt)/2)\n",
    "            df1.pm10avg.iloc[n] = avg\n",
    "            count = count + 1\n",
    "\n",
    "print(\"Nr of values changed: \", count)"
   ]
  },
  {
   "cell_type": "code",
   "execution_count": null,
   "metadata": {},
   "outputs": [],
   "source": [
    "plot_figure(df1.readable_time, df1.pm10avg)\n",
    "plt.title(\"pm10avg as function of time, manipulated, threshold 20\")\n",
    "#plt.savefig('RawGraph1ReducedWithThreshold.png', dpi=80)\n",
    "plt.show()"
   ]
  },
  {
   "cell_type": "code",
   "execution_count": null,
   "metadata": {},
   "outputs": [],
   "source": [
    "plot_figure(dfSensor.readable_time, dfSensor.pm10avg)\n",
    "plt.title(\"PM10 average as a function of time/ 2nd time\")\n",
    "plt.show()\n"
   ]
  },
  {
   "cell_type": "code",
   "execution_count": null,
   "metadata": {},
   "outputs": [],
   "source": [
    "dfSensor = dfSensor.reset_index(drop=True)\n",
    "dfSensor.tail()"
   ]
  },
  {
   "cell_type": "code",
   "execution_count": null,
   "metadata": {},
   "outputs": [],
   "source": [
    "threshold = 20\n",
    "count = 0\n",
    "\n",
    "for m in range (0,3):\n",
    "    for n in range (0,(len(dfSensor)-1)):\n",
    "        if (dfSensor.pm10avg.iloc[n] > threshold):\n",
    "            prev = dfSensor.pm10avg.iloc[n-1]\n",
    "            nxt = dfSensor.pm10avg.iloc[n+1]\n",
    "            avg = ((prev+nxt)/2)\n",
    "            dfSensor.pm10avg.iloc[n] = avg\n",
    "            count = count + 1\n",
    "\n",
    "#gives nr of non-churned, poor names\n",
    "print(\"Nr of values changed: \", count, \"n: \",n)"
   ]
  },
  {
   "cell_type": "code",
   "execution_count": null,
   "metadata": {},
   "outputs": [],
   "source": [
    "plot_figure(dfSensor.readable_time, dfSensor.pm10avg)\n",
    "plt.title(\"pm10avg as function of time/spikes reduced\")\n",
    "#plt.savefig('RawGraph1SpikesReduced.png', dpi=80)\n",
    "plt.show()"
   ]
  },
  {
   "cell_type": "code",
   "execution_count": null,
   "metadata": {},
   "outputs": [],
   "source": [
    "dfSensor = dfSensor.set_index(dfSensor.readable_time)\n",
    "dfSensor.tail()"
   ]
  },
  {
   "cell_type": "markdown",
   "metadata": {},
   "source": [
    "Resampling involves changing the frequency of your time series observations. One reason why you may be interested in resampling your time series data is feature engineering. \n",
    "Indeed, it can be used to provide additional structure or insight into the learning problem for supervised learning models. \n",
    "\n"
   ]
  },
  {
   "cell_type": "code",
   "execution_count": null,
   "metadata": {},
   "outputs": [],
   "source": [
    "hourly = dfSensor.resample('H').mean()\n",
    "hourly.tail()"
   ]
  },
  {
   "cell_type": "code",
   "execution_count": null,
   "metadata": {},
   "outputs": [],
   "source": [
    "plot_figure(hourly.index, hourly.pm10avg)\n",
    "plt.title(\"pm10avg/ Spikes reduced/ 1 h mean\")\n",
    "#plt.savefig('RawGraph1SpikesReducedHourlyAverage.png', dpi=80)\n",
    "plt.show()"
   ]
  },
  {
   "cell_type": "code",
   "execution_count": null,
   "metadata": {},
   "outputs": [],
   "source": [
    "#Is there more polutions on a specific weekday?\n",
    "#Do our baseline change with time?\n",
    "\n",
    "daily = dfSensor.resample('D').mean()\n",
    "daily\n"
   ]
  },
  {
   "cell_type": "code",
   "execution_count": null,
   "metadata": {},
   "outputs": [],
   "source": [
    "plot_figure(daily.index, daily.pm10avg)\n",
    "plt.title(\"pm10avg/ Spikes reduced/ daily mean\")\n",
    "#plt.savefig('RawGraph1SpikesReducedDailyAverage.png', dpi=80)\n",
    "plt.show()"
   ]
  },
  {
   "cell_type": "markdown",
   "metadata": {},
   "source": [
    "We'll add hour, day of week, and a boolean for is_weekend. This will expand our possibilities for feature analysis. \n",
    "\n",
    "Fetaure analysyis: hour, day, weekend/ weekday\n"
   ]
  },
  {
   "cell_type": "code",
   "execution_count": null,
   "metadata": {},
   "outputs": [],
   "source": [
    "hourly[\"hour\"] = hourly.index.hour\n",
    "hourly[\"weekday\"] = hourly.index.weekday\n",
    "hourly['is_weekend'] = hourly.weekday.isin([5,6])*1\n",
    "print(hourly.shape)\n",
    "hourly.tail()\n"
   ]
  },
  {
   "cell_type": "code",
   "execution_count": null,
   "metadata": {},
   "outputs": [],
   "source": [
    "#Say we just want to see data where the hour is 2, we could use the index as per below.\n",
    "by_hour2 = hourly [hourly.index.hour == 2]\n",
    "by_hour2"
   ]
  },
  {
   "cell_type": "code",
   "execution_count": null,
   "metadata": {},
   "outputs": [],
   "source": [
    "by_hour = hourly.groupby(hourly.hour).mean()#calculates mean for pm10avg, weekday, is_weekend\n",
    "print(by_hour.shape)\n",
    "by_hour"
   ]
  },
  {
   "cell_type": "code",
   "execution_count": null,
   "metadata": {},
   "outputs": [],
   "source": [
    "plot_figure(by_hour.index, by_hour.pm10avg)\n",
    "plt.title(\"pm10avg as function of hour of the day 15-28.2.2019\")\n",
    "#plt.savefig('HourlyAverage.png', dpi=80)\n",
    "plt.show()\n"
   ]
  },
  {
   "cell_type": "code",
   "execution_count": null,
   "metadata": {},
   "outputs": [],
   "source": [
    "by_weekday = hourly.groupby(hourly.weekday).mean()\n",
    "print(by_weekday.shape)\n",
    "by_weekday"
   ]
  },
  {
   "cell_type": "code",
   "execution_count": null,
   "metadata": {},
   "outputs": [],
   "source": [
    "plot_figure(by_weekday.index, by_weekday.pm10avg)\n",
    "plt.title(\"pm10avg as function of weekday 15-28.2.2019\")\n",
    "#plt.savefig('WeekdayAverage.png', dpi=80)\n",
    "plt.show()\n"
   ]
  },
  {
   "cell_type": "code",
   "execution_count": null,
   "metadata": {},
   "outputs": [],
   "source": [
    "by_weekend = hourly.groupby(hourly.is_weekend).mean()\n",
    "print(by_weekend.shape)\n",
    "by_weekend"
   ]
  },
  {
   "cell_type": "code",
   "execution_count": null,
   "metadata": {},
   "outputs": [],
   "source": []
  },
  {
   "cell_type": "code",
   "execution_count": null,
   "metadata": {},
   "outputs": [],
   "source": []
  }
 ],
 "metadata": {
  "kernelspec": {
   "display_name": "Python 3",
   "language": "python",
   "name": "python3"
  },
  "language_info": {
   "codemirror_mode": {
    "name": "ipython",
    "version": 3
   },
   "file_extension": ".py",
   "mimetype": "text/x-python",
   "name": "python",
   "nbconvert_exporter": "python",
   "pygments_lexer": "ipython3",
   "version": "3.7.0"
  }
 },
 "nbformat": 4,
 "nbformat_minor": 2
}
